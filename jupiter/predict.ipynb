{
 "cells": [
  {
   "cell_type": "code",
   "execution_count": 1,
   "metadata": {},
   "outputs": [
    {
     "name": "stderr",
     "output_type": "stream",
     "text": [
      "2023-10-14 00:34:27.432763: I tensorflow/core/platform/cpu_feature_guard.cc:182] This TensorFlow binary is optimized to use available CPU instructions in performance-critical operations.\n",
      "To enable the following instructions: AVX2 FMA, in other operations, rebuild TensorFlow with the appropriate compiler flags.\n"
     ]
    }
   ],
   "source": [
    "import os\n",
    "import datetime\n",
    "\n",
    "import IPython\n",
    "import IPython.display\n",
    "import matplotlib as mpl\n",
    "import matplotlib.pyplot as plt\n",
    "import numpy as np\n",
    "import pandas as pd\n",
    "import seaborn as sns\n",
    "import tensorflow as tf\n",
    "\n",
    "mpl.rcParams['figure.figsize'] = (8, 6)\n",
    "mpl.rcParams['axes.grid'] = False"
   ]
  },
  {
   "cell_type": "code",
   "execution_count": 10,
   "metadata": {},
   "outputs": [],
   "source": [
    "data2022 = pd.read_excel('../data/2022.xlsx')\n",
    "\n",
    "# data = data2022[['Cliente','Nombre 1','Proveedor', 'EdS','Sal.mc']]"
   ]
  },
  {
   "cell_type": "code",
   "execution_count": 14,
   "metadata": {},
   "outputs": [],
   "source": [
    "data2023 = pd.read_excel('../data/2023.xlsx')\n"
   ]
  },
  {
   "cell_type": "code",
   "execution_count": 11,
   "metadata": {},
   "outputs": [
    {
     "name": "stdout",
     "output_type": "stream",
     "text": [
      " Nº Ticket\n",
      "Centro Carga\n",
      "Doc.venta\n",
      "Cliente\n",
      "Nombre 1\n",
      "Proveedor\n",
      "Nombre 1.1\n",
      "EdS\n",
      "Albarán\n",
      "Lote producto\n",
      "Sal.mcia.real\n",
      "Fecha Caducidad\n",
      "Material\n",
      "Número de material\n",
      "Tick sin ped\n",
      "Vehículo\n",
      "CtdAlbFab\n",
      "CtdPedVtas\n",
      "Cantidad entrega\n",
      "UM\n",
      "UM.1\n",
      "Entrega\n",
      "F.Descarga\n",
      "H.ini.Desc\n",
      "H.fin.Desc\n",
      "Nº Lote Bolsa\n",
      "Nº Tanque\n",
      "Presión CO2\n",
      "Temperat.\n",
      "Creado por\n",
      "Creado el\n",
      "Hora\n",
      "Modif.por\n",
      "Modif.el\n",
      "HoraModif\n",
      "ID doc.\n",
      "IDContRep\n",
      "Tipo doc.\n"
     ]
    }
   ],
   "source": [
    "aux = data2022.columns\n",
    "\n",
    "for a in aux:\n",
    "    print(a)"
   ]
  },
  {
   "cell_type": "code",
   "execution_count": 17,
   "metadata": {},
   "outputs": [
    {
     "data": {
      "text/html": [
       "<div>\n",
       "<style scoped>\n",
       "    .dataframe tbody tr th:only-of-type {\n",
       "        vertical-align: middle;\n",
       "    }\n",
       "\n",
       "    .dataframe tbody tr th {\n",
       "        vertical-align: top;\n",
       "    }\n",
       "\n",
       "    .dataframe thead th {\n",
       "        text-align: right;\n",
       "    }\n",
       "</style>\n",
       "<table border=\"1\" class=\"dataframe\">\n",
       "  <thead>\n",
       "    <tr style=\"text-align: right;\">\n",
       "      <th></th>\n",
       "      <th>Cliente</th>\n",
       "      <th>Nombre 1</th>\n",
       "      <th>Proveedor</th>\n",
       "      <th>EdS</th>\n",
       "      <th>Sal.mcia.real</th>\n",
       "      <th>Material</th>\n",
       "      <th>Número de material</th>\n",
       "      <th>CtdAlbFab</th>\n",
       "      <th>CtdPedVtas</th>\n",
       "      <th>Cantidad entrega</th>\n",
       "      <th>F.Descarga</th>\n",
       "      <th>H.ini.Desc</th>\n",
       "      <th>H.fin.Desc</th>\n",
       "    </tr>\n",
       "  </thead>\n",
       "  <tbody>\n",
       "    <tr>\n",
       "      <th>0</th>\n",
       "      <td>1.221980e+05</td>\n",
       "      <td>DAVID BAR</td>\n",
       "      <td>2399.0</td>\n",
       "      <td>MAL2</td>\n",
       "      <td>26.04.2022</td>\n",
       "      <td>VI11TC</td>\n",
       "      <td>CERVEZA VICTORIA 11,6P TANQUE CERVEZA</td>\n",
       "      <td>5200.0</td>\n",
       "      <td>1000.0</td>\n",
       "      <td>1000.0</td>\n",
       "      <td>27.04.2022</td>\n",
       "      <td>1900-01-01 11:58:00</td>\n",
       "      <td>1900-01-01 12:09:00</td>\n",
       "    </tr>\n",
       "    <tr>\n",
       "      <th>1</th>\n",
       "      <td>1.268600e+05</td>\n",
       "      <td>CERVECERIA ECU</td>\n",
       "      <td>2399.0</td>\n",
       "      <td>MAL2</td>\n",
       "      <td>26.04.2022</td>\n",
       "      <td>VI11TC</td>\n",
       "      <td>CERVEZA VICTORIA 11,6P TANQUE CERVEZA</td>\n",
       "      <td>5200.0</td>\n",
       "      <td>600.0</td>\n",
       "      <td>600.0</td>\n",
       "      <td>29.04.2022</td>\n",
       "      <td>1900-01-01 09:06:00</td>\n",
       "      <td>1900-01-01 09:13:00</td>\n",
       "    </tr>\n",
       "    <tr>\n",
       "      <th>2</th>\n",
       "      <td>9.100422e+09</td>\n",
       "      <td>CERVECERIA BAJO DE GUIA (CAMPO DEL</td>\n",
       "      <td>2399.0</td>\n",
       "      <td>MAL2</td>\n",
       "      <td>26.04.2022</td>\n",
       "      <td>VI11TC</td>\n",
       "      <td>CERVEZA VICTORIA 11,6P TANQUE CERVEZA</td>\n",
       "      <td>5200.0</td>\n",
       "      <td>600.0</td>\n",
       "      <td>500.0</td>\n",
       "      <td>29.04.2022</td>\n",
       "      <td>1900-01-01 07:32:00</td>\n",
       "      <td>1900-01-01 07:38:00</td>\n",
       "    </tr>\n",
       "    <tr>\n",
       "      <th>3</th>\n",
       "      <td>9.100429e+09</td>\n",
       "      <td>RESTAURANTE PONDOS</td>\n",
       "      <td>2399.0</td>\n",
       "      <td>MAL2</td>\n",
       "      <td>26.04.2022</td>\n",
       "      <td>VI11TC</td>\n",
       "      <td>CERVEZA VICTORIA 11,6P TANQUE CERVEZA</td>\n",
       "      <td>5200.0</td>\n",
       "      <td>1000.0</td>\n",
       "      <td>1000.0</td>\n",
       "      <td>28.04.2022</td>\n",
       "      <td>1900-01-01 08:25:00</td>\n",
       "      <td>1900-01-01 08:35:00</td>\n",
       "    </tr>\n",
       "    <tr>\n",
       "      <th>4</th>\n",
       "      <td>9.100433e+09</td>\n",
       "      <td>ASADOR VERUM</td>\n",
       "      <td>2399.0</td>\n",
       "      <td>MAL2</td>\n",
       "      <td>26.04.2022</td>\n",
       "      <td>VI11TC</td>\n",
       "      <td>CERVEZA VICTORIA 11,6P TANQUE CERVEZA</td>\n",
       "      <td>5200.0</td>\n",
       "      <td>600.0</td>\n",
       "      <td>500.0</td>\n",
       "      <td>27.04.2022</td>\n",
       "      <td>1900-01-01 10:29:00</td>\n",
       "      <td>1900-01-01 10:35:00</td>\n",
       "    </tr>\n",
       "  </tbody>\n",
       "</table>\n",
       "</div>"
      ],
      "text/plain": [
       "        Cliente                            Nombre 1  Proveedor   EdS  \\\n",
       "0  1.221980e+05                           DAVID BAR     2399.0  MAL2   \n",
       "1  1.268600e+05                      CERVECERIA ECU     2399.0  MAL2   \n",
       "2  9.100422e+09  CERVECERIA BAJO DE GUIA (CAMPO DEL     2399.0  MAL2   \n",
       "3  9.100429e+09                  RESTAURANTE PONDOS     2399.0  MAL2   \n",
       "4  9.100433e+09                        ASADOR VERUM     2399.0  MAL2   \n",
       "\n",
       "  Sal.mcia.real Material                     Número de material  CtdAlbFab  \\\n",
       "0    26.04.2022   VI11TC  CERVEZA VICTORIA 11,6P TANQUE CERVEZA     5200.0   \n",
       "1    26.04.2022   VI11TC  CERVEZA VICTORIA 11,6P TANQUE CERVEZA     5200.0   \n",
       "2    26.04.2022   VI11TC  CERVEZA VICTORIA 11,6P TANQUE CERVEZA     5200.0   \n",
       "3    26.04.2022   VI11TC  CERVEZA VICTORIA 11,6P TANQUE CERVEZA     5200.0   \n",
       "4    26.04.2022   VI11TC  CERVEZA VICTORIA 11,6P TANQUE CERVEZA     5200.0   \n",
       "\n",
       "   CtdPedVtas  Cantidad entrega  F.Descarga          H.ini.Desc  \\\n",
       "0      1000.0            1000.0  27.04.2022 1900-01-01 11:58:00   \n",
       "1       600.0             600.0  29.04.2022 1900-01-01 09:06:00   \n",
       "2       600.0             500.0  29.04.2022 1900-01-01 07:32:00   \n",
       "3      1000.0            1000.0  28.04.2022 1900-01-01 08:25:00   \n",
       "4       600.0             500.0  27.04.2022 1900-01-01 10:29:00   \n",
       "\n",
       "           H.fin.Desc  \n",
       "0 1900-01-01 12:09:00  \n",
       "1 1900-01-01 09:13:00  \n",
       "2 1900-01-01 07:38:00  \n",
       "3 1900-01-01 08:35:00  \n",
       "4 1900-01-01 10:35:00  "
      ]
     },
     "execution_count": 17,
     "metadata": {},
     "output_type": "execute_result"
    }
   ],
   "source": [
    "selectedColumns2022 = data2022[['Cliente','Nombre 1','Proveedor', 'EdS','Sal.mcia.real','Material','Número de material','CtdAlbFab','CtdPedVtas','Cantidad entrega','F.Descarga','H.ini.Desc','H.fin.Desc']]\n",
    "selectedColumns2022.head()"
   ]
  },
  {
   "cell_type": "code",
   "execution_count": 15,
   "metadata": {},
   "outputs": [
    {
     "data": {
      "text/html": [
       "<div>\n",
       "<style scoped>\n",
       "    .dataframe tbody tr th:only-of-type {\n",
       "        vertical-align: middle;\n",
       "    }\n",
       "\n",
       "    .dataframe tbody tr th {\n",
       "        vertical-align: top;\n",
       "    }\n",
       "\n",
       "    .dataframe thead th {\n",
       "        text-align: right;\n",
       "    }\n",
       "</style>\n",
       "<table border=\"1\" class=\"dataframe\">\n",
       "  <thead>\n",
       "    <tr style=\"text-align: right;\">\n",
       "      <th></th>\n",
       "      <th>Cliente</th>\n",
       "      <th>Nombre 1</th>\n",
       "      <th>Proveedor</th>\n",
       "      <th>EdS</th>\n",
       "      <th>Sal.mcia.real</th>\n",
       "      <th>Material</th>\n",
       "      <th>Número de material</th>\n",
       "      <th>CtdAlbFab</th>\n",
       "      <th>CtdPedVtas</th>\n",
       "      <th>Cantidad entrega</th>\n",
       "      <th>F.Descarga</th>\n",
       "      <th>H.ini.Desc</th>\n",
       "      <th>H.fin.Desc</th>\n",
       "    </tr>\n",
       "  </thead>\n",
       "  <tbody>\n",
       "    <tr>\n",
       "      <th>0</th>\n",
       "      <td>1.264310e+05</td>\n",
       "      <td>BAR CAN MOIX</td>\n",
       "      <td>25580.0</td>\n",
       "      <td>MLL1</td>\n",
       "      <td>15.12.2022</td>\n",
       "      <td>ED11TC13</td>\n",
       "      <td>CERVEZA ESTRELLA 13P TANQUE CERVEZA</td>\n",
       "      <td>18000.0</td>\n",
       "      <td>600.0</td>\n",
       "      <td>600.8</td>\n",
       "      <td>03.01.2023</td>\n",
       "      <td>1900-01-01 08:00:44</td>\n",
       "      <td>1900-01-01 08:20:44</td>\n",
       "    </tr>\n",
       "    <tr>\n",
       "      <th>1</th>\n",
       "      <td>1.266070e+05</td>\n",
       "      <td>RESTAURANTE ES TRASTO</td>\n",
       "      <td>25580.0</td>\n",
       "      <td>MLL1</td>\n",
       "      <td>15.12.2022</td>\n",
       "      <td>ED11TC13</td>\n",
       "      <td>CERVEZA ESTRELLA 13P TANQUE CERVEZA</td>\n",
       "      <td>18000.0</td>\n",
       "      <td>600.0</td>\n",
       "      <td>597.9</td>\n",
       "      <td>02.01.2023</td>\n",
       "      <td>1900-01-01 09:00:44</td>\n",
       "      <td>1900-01-01 09:20:44</td>\n",
       "    </tr>\n",
       "    <tr>\n",
       "      <th>2</th>\n",
       "      <td>9.100118e+09</td>\n",
       "      <td>SA COVA DETS ASES</td>\n",
       "      <td>25580.0</td>\n",
       "      <td>MLL1</td>\n",
       "      <td>15.12.2022</td>\n",
       "      <td>ED11TC13</td>\n",
       "      <td>CERVEZA ESTRELLA 13P TANQUE CERVEZA</td>\n",
       "      <td>18000.0</td>\n",
       "      <td>600.0</td>\n",
       "      <td>601.1</td>\n",
       "      <td>03.01.2023</td>\n",
       "      <td>1900-01-01 07:00:44</td>\n",
       "      <td>1900-01-01 07:20:44</td>\n",
       "    </tr>\n",
       "    <tr>\n",
       "      <th>3</th>\n",
       "      <td>9.100430e+09</td>\n",
       "      <td>BAR TAMBUCHO</td>\n",
       "      <td>25580.0</td>\n",
       "      <td>MLL1</td>\n",
       "      <td>15.12.2022</td>\n",
       "      <td>ED11TC13</td>\n",
       "      <td>CERVEZA ESTRELLA 13P TANQUE CERVEZA</td>\n",
       "      <td>18000.0</td>\n",
       "      <td>600.0</td>\n",
       "      <td>167.7</td>\n",
       "      <td>03.01.2023</td>\n",
       "      <td>1900-01-01 09:10:44</td>\n",
       "      <td>1900-01-01 09:20:44</td>\n",
       "    </tr>\n",
       "    <tr>\n",
       "      <th>4</th>\n",
       "      <td>9.100430e+09</td>\n",
       "      <td>BAR TAMBUCHO</td>\n",
       "      <td>25580.0</td>\n",
       "      <td>MLL1</td>\n",
       "      <td>15.12.2022</td>\n",
       "      <td>ED11TC13</td>\n",
       "      <td>CERVEZA ESTRELLA 13P TANQUE CERVEZA</td>\n",
       "      <td>18000.0</td>\n",
       "      <td>600.0</td>\n",
       "      <td>434.2</td>\n",
       "      <td>03.01.2023</td>\n",
       "      <td>1900-01-01 09:00:44</td>\n",
       "      <td>1900-01-01 09:10:44</td>\n",
       "    </tr>\n",
       "  </tbody>\n",
       "</table>\n",
       "</div>"
      ],
      "text/plain": [
       "        Cliente               Nombre 1  Proveedor   EdS Sal.mcia.real  \\\n",
       "0  1.264310e+05           BAR CAN MOIX    25580.0  MLL1    15.12.2022   \n",
       "1  1.266070e+05  RESTAURANTE ES TRASTO    25580.0  MLL1    15.12.2022   \n",
       "2  9.100118e+09      SA COVA DETS ASES    25580.0  MLL1    15.12.2022   \n",
       "3  9.100430e+09           BAR TAMBUCHO    25580.0  MLL1    15.12.2022   \n",
       "4  9.100430e+09           BAR TAMBUCHO    25580.0  MLL1    15.12.2022   \n",
       "\n",
       "   Material                   Número de material  CtdAlbFab  CtdPedVtas  \\\n",
       "0  ED11TC13  CERVEZA ESTRELLA 13P TANQUE CERVEZA    18000.0       600.0   \n",
       "1  ED11TC13  CERVEZA ESTRELLA 13P TANQUE CERVEZA    18000.0       600.0   \n",
       "2  ED11TC13  CERVEZA ESTRELLA 13P TANQUE CERVEZA    18000.0       600.0   \n",
       "3  ED11TC13  CERVEZA ESTRELLA 13P TANQUE CERVEZA    18000.0       600.0   \n",
       "4  ED11TC13  CERVEZA ESTRELLA 13P TANQUE CERVEZA    18000.0       600.0   \n",
       "\n",
       "   Cantidad entrega  F.Descarga          H.ini.Desc          H.fin.Desc  \n",
       "0             600.8  03.01.2023 1900-01-01 08:00:44 1900-01-01 08:20:44  \n",
       "1             597.9  02.01.2023 1900-01-01 09:00:44 1900-01-01 09:20:44  \n",
       "2             601.1  03.01.2023 1900-01-01 07:00:44 1900-01-01 07:20:44  \n",
       "3             167.7  03.01.2023 1900-01-01 09:10:44 1900-01-01 09:20:44  \n",
       "4             434.2  03.01.2023 1900-01-01 09:00:44 1900-01-01 09:10:44  "
      ]
     },
     "execution_count": 15,
     "metadata": {},
     "output_type": "execute_result"
    }
   ],
   "source": [
    "selectedColumns2023 = data2023[['Cliente','Nombre 1','Proveedor', 'EdS','Sal.mcia.real','Material','Número de material','CtdAlbFab','CtdPedVtas','Cantidad entrega','F.Descarga','H.ini.Desc','H.fin.Desc']]\n",
    "selectedColumns2023.head()"
   ]
  },
  {
   "cell_type": "code",
   "execution_count": 22,
   "metadata": {},
   "outputs": [
    {
     "data": {
      "text/plain": [
       "0        1.264310e+05\n",
       "1        1.266070e+05\n",
       "2        9.100118e+09\n",
       "3        9.100430e+09\n",
       "4        9.100430e+09\n",
       "             ...     \n",
       "11011    1.177240e+05\n",
       "11012    1.200680e+05\n",
       "11013    9.100428e+09\n",
       "11014             NaN\n",
       "11015             NaN\n",
       "Name: Cliente, Length: 11016, dtype: float64"
      ]
     },
     "execution_count": 22,
     "metadata": {},
     "output_type": "execute_result"
    }
   ],
   "source": [
    "cliente2022 = selectedColumns2022['Cliente']\n",
    "cliente2022\n",
    "cliente2023 = selectedColumns2023['Cliente']\n",
    "cliente2023"
   ]
  },
  {
   "cell_type": "code",
   "execution_count": 23,
   "metadata": {},
   "outputs": [
    {
     "data": {
      "text/plain": [
       "0                 BAR CAN MOIX\n",
       "1        RESTAURANTE ES TRASTO\n",
       "2            SA COVA DETS ASES\n",
       "3                 BAR TAMBUCHO\n",
       "4                 BAR TAMBUCHO\n",
       "                 ...          \n",
       "11011             BAR LUNATTIC\n",
       "11012        ROCK & GRILL CAFE\n",
       "11013     RTE ASADOR EL RETIRO\n",
       "11014                      NaN\n",
       "11015                      NaN\n",
       "Name: Nombre 1, Length: 11016, dtype: object"
      ]
     },
     "execution_count": 23,
     "metadata": {},
     "output_type": "execute_result"
    }
   ],
   "source": [
    "nombre2022 = selectedColumns2022['Nombre 1']\n",
    "nombre2022\n",
    "nombre2023 = selectedColumns2023['Nombre 1']\n",
    "nombre2023"
   ]
  },
  {
   "cell_type": "code",
   "execution_count": 24,
   "metadata": {},
   "outputs": [
    {
     "data": {
      "text/plain": [
       "0        25580.0\n",
       "1        25580.0\n",
       "2        25580.0\n",
       "3        25580.0\n",
       "4        25580.0\n",
       "          ...   \n",
       "11011    12184.0\n",
       "11012    12184.0\n",
       "11013    12184.0\n",
       "11014        NaN\n",
       "11015        NaN\n",
       "Name: Proveedor, Length: 11016, dtype: float64"
      ]
     },
     "execution_count": 24,
     "metadata": {},
     "output_type": "execute_result"
    }
   ],
   "source": [
    "proveedor2022 = selectedColumns2022['Proveedor']\n",
    "proveedor2022\n",
    "proveedor2023 = selectedColumns2023['Proveedor']\n",
    "proveedor2023"
   ]
  },
  {
   "cell_type": "code",
   "execution_count": 25,
   "metadata": {},
   "outputs": [
    {
     "data": {
      "text/plain": [
       "0        MLL1\n",
       "1        MLL1\n",
       "2        MLL1\n",
       "3        MLL1\n",
       "4        MLL1\n",
       "         ... \n",
       "11011    BCN3\n",
       "11012    BCN3\n",
       "11013    BCN3\n",
       "11014     NaN\n",
       "11015     NaN\n",
       "Name: EdS, Length: 11016, dtype: object"
      ]
     },
     "execution_count": 25,
     "metadata": {},
     "output_type": "execute_result"
    }
   ],
   "source": [
    "eds2022 = selectedColumns2022['EdS']\n",
    "eds2022\n",
    "eds2023 = selectedColumns2023['EdS']\n",
    "eds2023\n"
   ]
  },
  {
   "cell_type": "code",
   "execution_count": 26,
   "metadata": {},
   "outputs": [
    {
     "data": {
      "text/plain": [
       "0        15.12.2022\n",
       "1        15.12.2022\n",
       "2        15.12.2022\n",
       "3        15.12.2022\n",
       "4        15.12.2022\n",
       "            ...    \n",
       "11011    04.10.2023\n",
       "11012    04.10.2023\n",
       "11013    04.10.2023\n",
       "11014           NaN\n",
       "11015           NaN\n",
       "Name: Sal.mcia.real, Length: 11016, dtype: object"
      ]
     },
     "execution_count": 26,
     "metadata": {},
     "output_type": "execute_result"
    }
   ],
   "source": [
    "salMcia2022 = selectedColumns2022['Sal.mcia.real']\n",
    "salMcia2022\n",
    "salMcia2023 = selectedColumns2023['Sal.mcia.real']\n",
    "salMcia2023   "
   ]
  },
  {
   "cell_type": "code",
   "execution_count": 27,
   "metadata": {},
   "outputs": [
    {
     "data": {
      "text/plain": [
       "0        ED11TC13\n",
       "1        ED11TC13\n",
       "2        ED11TC13\n",
       "3        ED11TC13\n",
       "4        ED11TC13\n",
       "           ...   \n",
       "11011    ED11TC13\n",
       "11012    ED11TC13\n",
       "11013    ED11TC13\n",
       "11014         NaN\n",
       "11015         NaN\n",
       "Name: Material, Length: 11016, dtype: object"
      ]
     },
     "execution_count": 27,
     "metadata": {},
     "output_type": "execute_result"
    }
   ],
   "source": [
    "material2022 = selectedColumns2022['Material']\n",
    "material2022\n",
    "material2023 = selectedColumns2023['Material']\n",
    "material2023"
   ]
  },
  {
   "cell_type": "code",
   "execution_count": 28,
   "metadata": {},
   "outputs": [
    {
     "data": {
      "text/plain": [
       "0        18000.0\n",
       "1        18000.0\n",
       "2        18000.0\n",
       "3        18000.0\n",
       "4        18000.0\n",
       "          ...   \n",
       "11011     9120.0\n",
       "11012     9120.0\n",
       "11013     9120.0\n",
       "11014        NaN\n",
       "11015        NaN\n",
       "Name: CtdAlbFab, Length: 11016, dtype: float64"
      ]
     },
     "execution_count": 28,
     "metadata": {},
     "output_type": "execute_result"
    }
   ],
   "source": [
    "ctdAlbFab2022 = selectedColumns2022['CtdAlbFab']\n",
    "ctdAlbFab2022\n",
    "ctdAlbFab2023 = selectedColumns2023['CtdAlbFab']\n",
    "ctdAlbFab2023"
   ]
  },
  {
   "cell_type": "code",
   "execution_count": 29,
   "metadata": {},
   "outputs": [
    {
     "data": {
      "text/plain": [
       "0         600.0\n",
       "1         600.0\n",
       "2         600.0\n",
       "3         600.0\n",
       "4         600.0\n",
       "          ...  \n",
       "11011    1000.0\n",
       "11012    1000.0\n",
       "11013       1.0\n",
       "11014       NaN\n",
       "11015       NaN\n",
       "Name: CtdPedVtas, Length: 11016, dtype: float64"
      ]
     },
     "execution_count": 29,
     "metadata": {},
     "output_type": "execute_result"
    }
   ],
   "source": [
    "ctdPedVtas2022 = selectedColumns2022['CtdPedVtas']\n",
    "ctdPedVtas2022\n",
    "ctdPedVtas2023 = selectedColumns2023['CtdPedVtas']\n",
    "ctdPedVtas2023"
   ]
  },
  {
   "cell_type": "code",
   "execution_count": 30,
   "metadata": {},
   "outputs": [
    {
     "data": {
      "text/plain": [
       "0            600.80\n",
       "1            597.90\n",
       "2            601.10\n",
       "3            167.70\n",
       "4            434.20\n",
       "            ...    \n",
       "11011        990.00\n",
       "11012        990.00\n",
       "11013        600.00\n",
       "11014           NaN\n",
       "11015    7447923.89\n",
       "Name: Cantidad entrega, Length: 11016, dtype: float64"
      ]
     },
     "execution_count": 30,
     "metadata": {},
     "output_type": "execute_result"
    }
   ],
   "source": [
    "cantEntrega2022 = selectedColumns2022['Cantidad entrega']\n",
    "cantEntrega2022\n",
    "cantEntrega2023 = selectedColumns2023['Cantidad entrega']\n",
    "cantEntrega2023"
   ]
  },
  {
   "cell_type": "code",
   "execution_count": 31,
   "metadata": {},
   "outputs": [
    {
     "data": {
      "text/plain": [
       "0        03.01.2023\n",
       "1        02.01.2023\n",
       "2        03.01.2023\n",
       "3        03.01.2023\n",
       "4        03.01.2023\n",
       "            ...    \n",
       "11011    05.10.2023\n",
       "11012    05.10.2023\n",
       "11013    05.10.2023\n",
       "11014           NaN\n",
       "11015           NaN\n",
       "Name: F.Descarga, Length: 11016, dtype: object"
      ]
     },
     "execution_count": 31,
     "metadata": {},
     "output_type": "execute_result"
    }
   ],
   "source": [
    "fDescarga2022 = selectedColumns2022['F.Descarga']\n",
    "fDescarga2022\n",
    "fDescarga2023 = selectedColumns2023['F.Descarga']\n",
    "fDescarga2023"
   ]
  },
  {
   "cell_type": "code",
   "execution_count": 32,
   "metadata": {},
   "outputs": [
    {
     "data": {
      "text/plain": [
       "0       1900-01-01 08:00:44\n",
       "1       1900-01-01 09:00:44\n",
       "2       1900-01-01 07:00:44\n",
       "3       1900-01-01 09:10:44\n",
       "4       1900-01-01 09:00:44\n",
       "                ...        \n",
       "11011   1900-01-01 07:03:44\n",
       "11012   1900-01-01 07:22:44\n",
       "11013   1900-01-01 07:55:44\n",
       "11014                   NaT\n",
       "11015                   NaT\n",
       "Name: H.ini.Desc, Length: 11016, dtype: datetime64[ns]"
      ]
     },
     "execution_count": 32,
     "metadata": {},
     "output_type": "execute_result"
    }
   ],
   "source": [
    "hIniDesc2022 = selectedColumns2022['H.ini.Desc']\n",
    "hIniDesc2022\n",
    "hIniDesc2023 = selectedColumns2023['H.ini.Desc']\n",
    "hIniDesc2023"
   ]
  },
  {
   "cell_type": "code",
   "execution_count": 33,
   "metadata": {},
   "outputs": [
    {
     "data": {
      "text/plain": [
       "0       1900-01-01 08:20:44\n",
       "1       1900-01-01 09:20:44\n",
       "2       1900-01-01 07:20:44\n",
       "3       1900-01-01 09:20:44\n",
       "4       1900-01-01 09:10:44\n",
       "                ...        \n",
       "11011   1900-01-01 07:16:44\n",
       "11012   1900-01-01 07:33:44\n",
       "11013   1900-01-01 08:02:44\n",
       "11014                   NaT\n",
       "11015                   NaT\n",
       "Name: H.fin.Desc, Length: 11016, dtype: datetime64[ns]"
      ]
     },
     "execution_count": 33,
     "metadata": {},
     "output_type": "execute_result"
    }
   ],
   "source": [
    "hFinDesc2022 = selectedColumns2022['H.fin.Desc']\n",
    "hFinDesc2022\n",
    "hFinDesc2023 = selectedColumns2023['H.fin.Desc']\n",
    "hFinDesc2023"
   ]
  },
  {
   "cell_type": "code",
   "execution_count": 37,
   "metadata": {},
   "outputs": [
    {
     "data": {
      "text/plain": [
       "0       2022-04-27\n",
       "1       2022-04-29\n",
       "2       2022-04-29\n",
       "3       2022-04-28\n",
       "4       2022-04-27\n",
       "           ...    \n",
       "12536   2022-04-26\n",
       "12537   2022-04-26\n",
       "12538   2022-04-26\n",
       "12539          NaT\n",
       "12540          NaT\n",
       "Name: F.Descarga, Length: 12541, dtype: datetime64[ns]"
      ]
     },
     "execution_count": 37,
     "metadata": {},
     "output_type": "execute_result"
    }
   ],
   "source": [
    "date_time2022 = pd.to_datetime(data2022['F.Descarga'], format='%d.%m.%Y')\n",
    "date_time2022"
   ]
  },
  {
   "cell_type": "code",
   "execution_count": 40,
   "metadata": {},
   "outputs": [
    {
     "data": {
      "image/png": "[encoded data removed]",
      "text/plain": [
       "<Figure size 800x600 with 3 Axes>"
      ]
     },
     "metadata": {},
     "output_type": "display_data"
    },
    {
     "data": {
      "image/png": "[encoded data removed]",
      "text/plain": [
       "<Figure size 800x600 with 3 Axes>"
      ]
     },
     "metadata": {},
     "output_type": "display_data"
    }
   ],
   "source": [
    "plot_cols2022 = ['Sal.mcia.real', 'CtdAlbFab', 'CtdPedVtas', 'Cantidad entrega']\n",
    "plot_features2022 = selectedColumns2022[plot_cols2022]\n",
    "plot_features2022.index = date_time2022\n",
    "_ = plot_features2022.plot(subplots=True)\n",
    "\n",
    "plot_features = selectedColumns2022[plot_cols2022][:480]\n",
    "plot_features.index = date_time2022[:480]\n",
    "_ = plot_features.plot(subplots=True)\n",
    "\n"
   ]
  }
 ],
 "metadata": {
  "kernelspec": {
   "display_name": "dammvenv",
   "language": "python",
   "name": "python3"
  },
  "language_info": {
   "codemirror_mode": {
    "name": "ipython",
    "version": 3
   },
   "file_extension": ".py",
   "mimetype": "text/x-python",
   "name": "python",
   "nbconvert_exporter": "python",
   "pygments_lexer": "ipython3",
   "version": "3.11.4"
  }
 },
 "nbformat": 4,
 "nbformat_minor": 2
}
