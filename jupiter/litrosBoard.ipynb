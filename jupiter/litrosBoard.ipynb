{
 "cells": [
  {
   "cell_type": "code",
   "execution_count": 2,
   "metadata": {},
   "outputs": [],
   "source": [
    "import pandas as pd\n",
    "from sklearn.model_selection import train_test_split\n",
    "from sklearn.linear_model import LinearRegression\n",
    "from sklearn.metrics import mean_squared_error\n"
   ]
  },
  {
   "cell_type": "code",
   "execution_count": 3,
   "metadata": {},
   "outputs": [
    {
     "data": {
      "text/html": [
       "<div>\n",
       "<style scoped>\n",
       "    .dataframe tbody tr th:only-of-type {\n",
       "        vertical-align: middle;\n",
       "    }\n",
       "\n",
       "    .dataframe tbody tr th {\n",
       "        vertical-align: top;\n",
       "    }\n",
       "\n",
       "    .dataframe thead th {\n",
       "        text-align: right;\n",
       "    }\n",
       "</style>\n",
       "<table border=\"1\" class=\"dataframe\">\n",
       "  <thead>\n",
       "    <tr style=\"text-align: right;\">\n",
       "      <th></th>\n",
       "      <th>cliente</th>\n",
       "      <th>cliente_nom</th>\n",
       "      <th>fecha</th>\n",
       "      <th>litros</th>\n",
       "    </tr>\n",
       "  </thead>\n",
       "  <tbody>\n",
       "    <tr>\n",
       "      <th>0</th>\n",
       "      <td>8100000203</td>\n",
       "      <td>BD - TABERNA TIBURON</td>\n",
       "      <td>ene-22</td>\n",
       "      <td>582.0</td>\n",
       "    </tr>\n",
       "    <tr>\n",
       "      <th>1</th>\n",
       "      <td>8100000597</td>\n",
       "      <td>BD - BAR EL BARCO DE LA RAMBLA</td>\n",
       "      <td>ene-22</td>\n",
       "      <td>NaN</td>\n",
       "    </tr>\n",
       "    <tr>\n",
       "      <th>2</th>\n",
       "      <td>8100000598</td>\n",
       "      <td>BD - BALBIBLAU</td>\n",
       "      <td>ene-22</td>\n",
       "      <td>1939.0</td>\n",
       "    </tr>\n",
       "    <tr>\n",
       "      <th>3</th>\n",
       "      <td>8100001081</td>\n",
       "      <td>BD - JAMBOREE - TARANTOS</td>\n",
       "      <td>ene-22</td>\n",
       "      <td>NaN</td>\n",
       "    </tr>\n",
       "    <tr>\n",
       "      <th>4</th>\n",
       "      <td>8100001349</td>\n",
       "      <td>BD - BAR LA FLAMA-2</td>\n",
       "      <td>ene-22</td>\n",
       "      <td>1200.0</td>\n",
       "    </tr>\n",
       "  </tbody>\n",
       "</table>\n",
       "</div>"
      ],
      "text/plain": [
       "      cliente                     cliente_nom   fecha  litros\n",
       "0  8100000203            BD - TABERNA TIBURON  ene-22   582.0\n",
       "1  8100000597  BD - BAR EL BARCO DE LA RAMBLA  ene-22     NaN\n",
       "2  8100000598                  BD - BALBIBLAU  ene-22  1939.0\n",
       "3  8100001081        BD - JAMBOREE - TARANTOS  ene-22     NaN\n",
       "4  8100001349             BD - BAR LA FLAMA-2  ene-22  1200.0"
      ]
     },
     "execution_count": 3,
     "metadata": {},
     "output_type": "execute_result"
    }
   ],
   "source": [
    "df = pd.read_excel(\"/Users/linhaopeng/Desktop/NoIcloud.nosync/dammBackend/data/litros_board_22_23.xlsx\")  # Reemplaza con la ubicación de tu archivo Excel\n",
    "# Separar las características (X) y la variable objetivo (y)\n",
    "df.head()\n"
   ]
  },
  {
   "cell_type": "code",
   "execution_count": 4,
   "metadata": {},
   "outputs": [
    {
     "data": {
      "text/html": [
       "<div>\n",
       "<style scoped>\n",
       "    .dataframe tbody tr th:only-of-type {\n",
       "        vertical-align: middle;\n",
       "    }\n",
       "\n",
       "    .dataframe tbody tr th {\n",
       "        vertical-align: top;\n",
       "    }\n",
       "\n",
       "    .dataframe thead th {\n",
       "        text-align: right;\n",
       "    }\n",
       "</style>\n",
       "<table border=\"1\" class=\"dataframe\">\n",
       "  <thead>\n",
       "    <tr style=\"text-align: right;\">\n",
       "      <th></th>\n",
       "      <th>cliente</th>\n",
       "      <th>cliente_nom</th>\n",
       "      <th>fecha</th>\n",
       "      <th>litros</th>\n",
       "    </tr>\n",
       "  </thead>\n",
       "  <tbody>\n",
       "    <tr>\n",
       "      <th>0</th>\n",
       "      <td>8100000203</td>\n",
       "      <td>BD - TABERNA TIBURON</td>\n",
       "      <td>ene-22</td>\n",
       "      <td>582.0</td>\n",
       "    </tr>\n",
       "    <tr>\n",
       "      <th>1</th>\n",
       "      <td>8100000597</td>\n",
       "      <td>BD - BAR EL BARCO DE LA RAMBLA</td>\n",
       "      <td>ene-22</td>\n",
       "      <td>0.0</td>\n",
       "    </tr>\n",
       "    <tr>\n",
       "      <th>2</th>\n",
       "      <td>8100000598</td>\n",
       "      <td>BD - BALBIBLAU</td>\n",
       "      <td>ene-22</td>\n",
       "      <td>1939.0</td>\n",
       "    </tr>\n",
       "    <tr>\n",
       "      <th>3</th>\n",
       "      <td>8100001081</td>\n",
       "      <td>BD - JAMBOREE - TARANTOS</td>\n",
       "      <td>ene-22</td>\n",
       "      <td>0.0</td>\n",
       "    </tr>\n",
       "    <tr>\n",
       "      <th>4</th>\n",
       "      <td>8100001349</td>\n",
       "      <td>BD - BAR LA FLAMA-2</td>\n",
       "      <td>ene-22</td>\n",
       "      <td>1200.0</td>\n",
       "    </tr>\n",
       "  </tbody>\n",
       "</table>\n",
       "</div>"
      ],
      "text/plain": [
       "      cliente                     cliente_nom   fecha  litros\n",
       "0  8100000203            BD - TABERNA TIBURON  ene-22   582.0\n",
       "1  8100000597  BD - BAR EL BARCO DE LA RAMBLA  ene-22     0.0\n",
       "2  8100000598                  BD - BALBIBLAU  ene-22  1939.0\n",
       "3  8100001081        BD - JAMBOREE - TARANTOS  ene-22     0.0\n",
       "4  8100001349             BD - BAR LA FLAMA-2  ene-22  1200.0"
      ]
     },
     "execution_count": 4,
     "metadata": {},
     "output_type": "execute_result"
    }
   ],
   "source": [
    "# Convertir las columnas que tienen valores nulos a 0\n",
    "df = df.fillna(0)\n",
    "df.head()"
   ]
  },
  {
   "cell_type": "code",
   "execution_count": 5,
   "metadata": {},
   "outputs": [
    {
     "data": {
      "text/plain": [
       "0       2022-01-01\n",
       "1       2022-01-01\n",
       "2       2022-01-01\n",
       "3       2022-01-01\n",
       "4       2022-01-01\n",
       "           ...    \n",
       "11200   2023-09-01\n",
       "11201   2023-09-01\n",
       "11202   2023-09-01\n",
       "11203   2023-09-01\n",
       "11204   2023-09-01\n",
       "Name: fecha, Length: 11205, dtype: datetime64[ns]"
      ]
     },
     "execution_count": 5,
     "metadata": {},
     "output_type": "execute_result"
    }
   ],
   "source": [
    "import datetime\n",
    "df['fecha'].unique().tolist()\n",
    "# Convertir el dato 'ene-22' a '2022-01-01'\n",
    "df['fecha'] = df['fecha'].replace('ene-22', datetime.datetime(2022, 1, 1))\n",
    "df['fecha'] \n"
   ]
  },
  {
   "cell_type": "code",
   "execution_count": 6,
   "metadata": {},
   "outputs": [
    {
     "data": {
      "text/html": [
       "<div>\n",
       "<style scoped>\n",
       "    .dataframe tbody tr th:only-of-type {\n",
       "        vertical-align: middle;\n",
       "    }\n",
       "\n",
       "    .dataframe tbody tr th {\n",
       "        vertical-align: top;\n",
       "    }\n",
       "\n",
       "    .dataframe thead th {\n",
       "        text-align: right;\n",
       "    }\n",
       "</style>\n",
       "<table border=\"1\" class=\"dataframe\">\n",
       "  <thead>\n",
       "    <tr style=\"text-align: right;\">\n",
       "      <th></th>\n",
       "      <th>cliente</th>\n",
       "      <th>cliente_nom</th>\n",
       "      <th>fecha</th>\n",
       "      <th>litros</th>\n",
       "      <th>mes</th>\n",
       "      <th>año</th>\n",
       "    </tr>\n",
       "  </thead>\n",
       "  <tbody>\n",
       "    <tr>\n",
       "      <th>0</th>\n",
       "      <td>8100000203</td>\n",
       "      <td>BD - TABERNA TIBURON</td>\n",
       "      <td>2022-01-01</td>\n",
       "      <td>582.0</td>\n",
       "      <td>1</td>\n",
       "      <td>2022</td>\n",
       "    </tr>\n",
       "    <tr>\n",
       "      <th>1</th>\n",
       "      <td>8100000597</td>\n",
       "      <td>BD - BAR EL BARCO DE LA RAMBLA</td>\n",
       "      <td>2022-01-01</td>\n",
       "      <td>0.0</td>\n",
       "      <td>1</td>\n",
       "      <td>2022</td>\n",
       "    </tr>\n",
       "    <tr>\n",
       "      <th>2</th>\n",
       "      <td>8100000598</td>\n",
       "      <td>BD - BALBIBLAU</td>\n",
       "      <td>2022-01-01</td>\n",
       "      <td>1939.0</td>\n",
       "      <td>1</td>\n",
       "      <td>2022</td>\n",
       "    </tr>\n",
       "    <tr>\n",
       "      <th>3</th>\n",
       "      <td>8100001081</td>\n",
       "      <td>BD - JAMBOREE - TARANTOS</td>\n",
       "      <td>2022-01-01</td>\n",
       "      <td>0.0</td>\n",
       "      <td>1</td>\n",
       "      <td>2022</td>\n",
       "    </tr>\n",
       "    <tr>\n",
       "      <th>4</th>\n",
       "      <td>8100001349</td>\n",
       "      <td>BD - BAR LA FLAMA-2</td>\n",
       "      <td>2022-01-01</td>\n",
       "      <td>1200.0</td>\n",
       "      <td>1</td>\n",
       "      <td>2022</td>\n",
       "    </tr>\n",
       "  </tbody>\n",
       "</table>\n",
       "</div>"
      ],
      "text/plain": [
       "      cliente                     cliente_nom      fecha  litros  mes   año\n",
       "0  8100000203            BD - TABERNA TIBURON 2022-01-01   582.0    1  2022\n",
       "1  8100000597  BD - BAR EL BARCO DE LA RAMBLA 2022-01-01     0.0    1  2022\n",
       "2  8100000598                  BD - BALBIBLAU 2022-01-01  1939.0    1  2022\n",
       "3  8100001081        BD - JAMBOREE - TARANTOS 2022-01-01     0.0    1  2022\n",
       "4  8100001349             BD - BAR LA FLAMA-2 2022-01-01  1200.0    1  2022"
      ]
     },
     "execution_count": 6,
     "metadata": {},
     "output_type": "execute_result"
    }
   ],
   "source": [
    "df['mes'] = df['fecha'].dt.month\n",
    "df['año'] = df['fecha'].dt.year\n",
    "df.head()"
   ]
  },
  {
   "cell_type": "code",
   "execution_count": 9,
   "metadata": {},
   "outputs": [
    {
     "data": {
      "text/plain": [
       "{datetime.datetime(2022, 1, 1, 0, 0),\n",
       " datetime.datetime(2022, 2, 1, 0, 0),\n",
       " datetime.datetime(2022, 3, 1, 0, 0),\n",
       " datetime.datetime(2022, 4, 1, 0, 0),\n",
       " datetime.datetime(2022, 5, 1, 0, 0),\n",
       " datetime.datetime(2022, 6, 1, 0, 0),\n",
       " datetime.datetime(2022, 7, 1, 0, 0),\n",
       " datetime.datetime(2022, 8, 1, 0, 0),\n",
       " datetime.datetime(2022, 9, 1, 0, 0),\n",
       " datetime.datetime(2022, 10, 1, 0, 0),\n",
       " datetime.datetime(2022, 11, 1, 0, 0),\n",
       " datetime.datetime(2022, 12, 1, 0, 0),\n",
       " datetime.datetime(2023, 1, 1, 0, 0),\n",
       " datetime.datetime(2023, 2, 1, 0, 0),\n",
       " datetime.datetime(2023, 3, 1, 0, 0),\n",
       " datetime.datetime(2023, 4, 1, 0, 0),\n",
       " datetime.datetime(2023, 5, 1, 0, 0),\n",
       " datetime.datetime(2023, 6, 1, 0, 0),\n",
       " datetime.datetime(2023, 7, 1, 0, 0),\n",
       " datetime.datetime(2023, 8, 1, 0, 0),\n",
       " datetime.datetime(2023, 9, 1, 0, 0)}"
      ]
     },
     "execution_count": 9,
     "metadata": {},
     "output_type": "execute_result"
    }
   ],
   "source": [
    "arr = []\n",
    "for i in range(len(df)):\n",
    "    arr.append(datetime.datetime(df['año'][i].item(),df['mes'][i].item(),1))\n",
    "\n"
   ]
  },
  {
   "cell_type": "code",
   "execution_count": 10,
   "metadata": {},
   "outputs": [
    {
     "name": "stdout",
     "output_type": "stream",
     "text": [
      "2022-01-01 00:00:00: 519\n",
      "2022-02-01 00:00:00: 519\n",
      "2022-03-01 00:00:00: 519\n",
      "2022-04-01 00:00:00: 519\n",
      "2022-05-01 00:00:00: 519\n",
      "2022-06-01 00:00:00: 519\n",
      "2022-07-01 00:00:00: 519\n",
      "2022-08-01 00:00:00: 519\n",
      "2022-09-01 00:00:00: 519\n",
      "2022-10-01 00:00:00: 519\n",
      "2022-11-01 00:00:00: 519\n",
      "2022-12-01 00:00:00: 519\n",
      "2023-01-01 00:00:00: 553\n",
      "2023-02-01 00:00:00: 553\n",
      "2023-03-01 00:00:00: 553\n",
      "2023-04-01 00:00:00: 553\n",
      "2023-05-01 00:00:00: 553\n",
      "2023-06-01 00:00:00: 553\n",
      "2023-07-01 00:00:00: 553\n",
      "2023-08-01 00:00:00: 553\n",
      "2023-09-01 00:00:00: 553\n"
     ]
    }
   ],
   "source": [
    "elements_count = {}\n",
    "# iterating over the elements for frequency\n",
    "for element in arr:\n",
    "   # checking whether it is in the dict or not\n",
    "   if element in elements_count:\n",
    "      # incerementing the count by 1\n",
    "      elements_count[element] += 1\n",
    "   else:\n",
    "      # setting the count to 1\n",
    "      elements_count[element] = 1\n",
    "# printing the elements frequencies\n",
    "for key, value in elements_count.items():\n",
    "   print(f\"{key}: {value}\")"
   ]
  },
  {
   "cell_type": "code",
   "execution_count": 8,
   "metadata": {},
   "outputs": [],
   "source": [
    "from sklearn.model_selection import train_test_split\n",
    "\n",
    "X = df[['cliente', 'mes', 'año']]  # Características\n",
    "y = df['litros']  # Variable objetivo"
   ]
  },
  {
   "cell_type": "code",
   "execution_count": 13,
   "metadata": {},
   "outputs": [
    {
     "data": {
      "text/plain": [
       "array([8100000203, 8100000597, 8100000598, 8100001081, 8100001349,\n",
       "       8100001902, 8100002463, 8100002469, 8100003004, 8100003397,\n",
       "       8100003841, 8100004705, 8100005258, 8100005276, 8100005279,\n",
       "       8100005673, 8100005750, 8100006125, 8100006176, 8100006214,\n",
       "       8100006227, 8100006259, 8100006342, 8100007132, 8100007186,\n",
       "       8100007665, 8100007710, 8100007759, 8100007826, 8100007835,\n",
       "       8100007846, 8100008127, 8100008439, 8100008488, 8100008519,\n",
       "       8100008645, 8100008666, 8100009253, 8100009273, 8100009454,\n",
       "       8100009677, 8100009792, 8100009904, 8100010057, 8100011056,\n",
       "       8100011297, 8100011906, 8100012052, 8100012120, 8100012550,\n",
       "       8100012649, 8100013002, 8100013217, 8100013596, 8100014465,\n",
       "       8100014605, 8100014645, 8100016290, 8100016617, 8100016622,\n",
       "       8100016663, 8100016709, 8100016713, 8100016826, 8100016850,\n",
       "       8100016938, 8100017039, 8100017288, 8100017327, 8100017441,\n",
       "       8100017633, 8100017683, 8100017794, 8100017802, 8100017934,\n",
       "       8100017965, 8100017969, 8100018251, 8100018384, 8100018422,\n",
       "       8100018510, 8100019165, 8100019190, 8100019202, 8100019372,\n",
       "       8100019408, 8100020376, 8100020574, 8100020586, 8100020631,\n",
       "       8100023240, 8100023278, 8100023376, 8100023514, 8100023583,\n",
       "       8100023634, 8100025701, 8100025988, 8100028384, 8100028610,\n",
       "       8100028793, 8100029358, 8100029400, 8100029983, 8100029988,\n",
       "       8100030574, 8100030674, 8100030930, 8100030987, 8100031583,\n",
       "       8100032093, 8100032986, 8100035699, 8100037264, 8100037735,\n",
       "       8100037905, 8100037915, 8100038073, 8100038740, 8100039108,\n",
       "       8100039400, 8100039868, 8100039876, 8100039953, 8100040264,\n",
       "       8100040564, 8100040734, 8100040968, 8100044067, 8100044095,\n",
       "       8100044688, 8100045628, 8100046710, 8100046963, 8100047216,\n",
       "       8100047533, 8100047743, 8100048929, 8100049033, 8100049186,\n",
       "       8100049449, 8100049598, 8100051640, 8100051980, 8100052207,\n",
       "       8100052891, 8100052929, 8100053031, 8100053784, 8100053964,\n",
       "       8100054255, 8100055631, 8100057966, 8100060454, 8100061171,\n",
       "       8100061642, 8100062373, 8100063325, 8100064243, 8100064286,\n",
       "       8100064306, 8100064632, 8100065403, 8100066771, 8100070163,\n",
       "       8100070304, 8100071454, 8100072285, 8100072506, 8100072703,\n",
       "       8100073753, 8100074830, 8100075071, 8100075321, 8100076065,\n",
       "       8100076100, 8100076317, 8100078351, 8100079459, 8100079788,\n",
       "       8100080490, 8100081300, 8100081466, 8100081640, 8100082465,\n",
       "       8100084016, 8100086544, 8100086779, 8100087086, 8100087599,\n",
       "       8100087697, 8100087702, 8100087778, 8100088241, 8100088301,\n",
       "       8100088315, 8100088436, 8100089086, 8100089227, 8100089357,\n",
       "       8100089687, 8100090027, 8100090263, 8100090359, 8100090687,\n",
       "       8100090981, 8100091588, 8100091654, 8100091692, 8100091891,\n",
       "       8100092036, 8100092235, 8100094067, 8100094347, 8100094495,\n",
       "       8100098498, 8100100583, 8100101192, 8100101482, 8100101498,\n",
       "       8100101575, 8100101708, 8100102015, 8100102085, 8100102847,\n",
       "       8100103076, 8100103585, 8100105207, 8100110133, 8100110989,\n",
       "       8100111657, 8100113766, 8100114820, 8100115347, 8100115846,\n",
       "       8100116316, 8100117761, 8100118030, 8100118517, 8100118598,\n",
       "       8100118648, 8100118914, 8100118940, 8100119017, 8100119026,\n",
       "       8100119084, 8100119115, 8100119163, 8100119208, 8100119593,\n",
       "       8100119595, 8100119603, 8100119712, 8100119961, 8100120856,\n",
       "       8100121059, 8100123334, 8100123347, 8100125130, 8100125306,\n",
       "       8100125718, 8100126036, 8100126162, 8100126351, 8100127100,\n",
       "       8100127954, 8100128028, 8100128320, 8100128527, 8100128570,\n",
       "       8100129959, 8100129984, 8100130006, 8100130060, 8100130095,\n",
       "       8100130128, 8100130143, 8100130148, 8100130168, 8100130358,\n",
       "       8100130389, 8100130449, 8100130635, 8100131084, 8100131216,\n",
       "       8100131226, 8100131326, 8100131571, 8100131578, 8100131716,\n",
       "       8100131931, 8100131959, 8100132279, 8100132612, 8100134537,\n",
       "       8100134694, 8100137781, 8100139291, 8100142378, 8100143935,\n",
       "       8100144037, 8100147451, 8100148762, 8100152472, 8100152692,\n",
       "       8100152823, 8100157545, 8100159244, 8100159258, 8100170103,\n",
       "       8100170691, 8100170722, 8100170734, 8100171287, 8100171685,\n",
       "       8100176503, 8100176628, 8100177738, 8100178690, 8100180756,\n",
       "       8100181207, 8100181618, 8100183126, 8100184571, 8100184952,\n",
       "       8100184974, 8100186634, 8100189244, 8100189705, 8100194058,\n",
       "       8100194071, 8100195288, 8100197470, 8100199569, 8100199570,\n",
       "       8100201759, 8100203043, 8100204076, 8100206447, 8100206904,\n",
       "       8100207292, 8100207317, 8100207379, 8100207561, 8100217267,\n",
       "       8100219002, 8100222338, 8100222364, 8100223258, 8100225524,\n",
       "       8100225545, 8100225614, 8100225616, 8100225627, 8100226042,\n",
       "       8100227724, 8100227737, 8100230255, 8100233339, 8100233456,\n",
       "       8100239425, 8100240115, 8100242701, 8100242985, 8100243012,\n",
       "       8100243104, 8100243107, 8100243108, 8100243236, 8100245389,\n",
       "       8100245510, 8100245525, 8100250522, 8100251351, 8100251574,\n",
       "       8100252557, 8100253089, 8100253226, 8100253516, 8100253557,\n",
       "       8100256903, 8100257187, 8100257370, 8100257850, 8100259650,\n",
       "       8100261058, 8100261104, 8100261250, 8100261318, 8100261319,\n",
       "       8100262184, 8100262755, 8100263396, 8100264296, 8100264550,\n",
       "       8100264760, 8100265921, 8100266505, 8100266580, 8100266780,\n",
       "       8100269012, 8100269565, 8100269937, 8100272817, 8100272846,\n",
       "       8100273168, 8100273942, 8100277095, 8100278462, 8100279494,\n",
       "       8100280418, 8100280737, 8100280825, 8100281697, 8100284971,\n",
       "       8100286269, 8100290512, 8100293676, 8100294324, 8100294795,\n",
       "       8100295410, 8100296885, 8100297084, 8100297181, 8100297230,\n",
       "       8100298990, 8100300168, 8100300712, 8100303336, 8100303337,\n",
       "       8100305957, 8100308524, 8100308605, 8100308676, 8100308774,\n",
       "       8100308873, 8100309090, 8100309103, 8100310350, 8100310406,\n",
       "       8100310677, 8100311057, 8100312668, 8100312706, 8100315840,\n",
       "       8100316173, 8100319447, 8100320009, 8100320179, 8100322246,\n",
       "       8100322276, 8100325468, 8100326119, 8100329989, 8100332680,\n",
       "       8100332689, 8100335638, 8100337367, 8100337418, 8100338568,\n",
       "       8100339054, 8100339708, 8100340141, 8100340399, 8100340766,\n",
       "       8100340818, 8100341399, 8100341449, 8100341602, 8100341691,\n",
       "       8100342107, 8100343023, 8100343813, 8100345347, 8100346153,\n",
       "       8100349280, 8100351147, 8100352143, 8100355992, 8100359981,\n",
       "       8100360214, 8100360228, 8100361950, 8100363892, 8100365520,\n",
       "       8100366009, 8100368303, 8100369429, 8100369956, 8100371893,\n",
       "       8100372264, 8100372375, 8100373255, 8100373619, 8100373898,\n",
       "       8100374135, 8100374683, 8100374776, 8100377047, 8100377261,\n",
       "       8100377611, 8100377772, 8100379601, 8100380463, 8100382667,\n",
       "       8100383179, 8100383818, 8100391307, 8100391558, 8100393707,\n",
       "       8100393807, 8100393808, 8100394541, 8100394915, 8100395387,\n",
       "       8100395506, 8100398113, 8100399880, 8100404077, 8100004949,\n",
       "       8100005280, 8100006349, 8100006443, 8100006650, 8100009227,\n",
       "       8100009405, 8100011897, 8100012762, 8100013807, 8100017430,\n",
       "       8100017563, 8100018129, 8100020644, 8100029390, 8100031918,\n",
       "       8100037025, 8100038716, 8100049456, 8100050747, 8100051762,\n",
       "       8100052231, 8100056915, 8100058698, 8100075937, 8100083651,\n",
       "       8100084048, 8100087298, 8100089854, 8100090351, 8100090828,\n",
       "       8100091512, 8100093917, 8100094179, 8100094939, 8100101973,\n",
       "       8100116455, 8100119269, 8100119360, 8100119813, 8100123948,\n",
       "       8100127193, 8100130219, 8100135127, 8100146718, 8100151218,\n",
       "       8100152530, 8100152690, 8100152884, 8100153811, 8100164346,\n",
       "       8100197480, 8100199827, 8100203596, 8100234885, 8100244142,\n",
       "       8100257492, 8100271910, 8100280266, 8100285829, 8100286193,\n",
       "       8100294035, 8100305512, 8100308322, 8100309110, 8100325088,\n",
       "       8100328440, 8100330253, 8100342484, 8100355717, 8100360040,\n",
       "       8100369992, 8100371514, 8100373400, 8100376960, 8100380924,\n",
       "       8100381328, 8100382875, 8100393873, 8100394170, 8100397814,\n",
       "       8100404703, 8100409686, 8100410109, 8100410332, 8100411006,\n",
       "       8100411552, 8100411913, 8100424302, 8100425813, 8100426662,\n",
       "       8100430227])"
      ]
     },
     "execution_count": 13,
     "metadata": {},
     "output_type": "execute_result"
    }
   ],
   "source": [
    "# Obtener \"cliente_nom\" unicos\n",
    "clientes = df['cliente'].unique()\n",
    "clientes\n"
   ]
  },
  {
   "cell_type": "code",
   "execution_count": 12,
   "metadata": {},
   "outputs": [
    {
     "data": {
      "text/html": [
       "<div>\n",
       "<style scoped>\n",
       "    .dataframe tbody tr th:only-of-type {\n",
       "        vertical-align: middle;\n",
       "    }\n",
       "\n",
       "    .dataframe tbody tr th {\n",
       "        vertical-align: top;\n",
       "    }\n",
       "\n",
       "    .dataframe thead th {\n",
       "        text-align: right;\n",
       "    }\n",
       "</style>\n",
       "<table border=\"1\" class=\"dataframe\">\n",
       "  <thead>\n",
       "    <tr style=\"text-align: right;\">\n",
       "      <th></th>\n",
       "      <th>cliente</th>\n",
       "      <th>cliente_nom</th>\n",
       "      <th>fecha</th>\n",
       "      <th>litros</th>\n",
       "      <th>mes</th>\n",
       "      <th>año</th>\n",
       "    </tr>\n",
       "  </thead>\n",
       "  <tbody>\n",
       "  </tbody>\n",
       "</table>\n",
       "</div>"
      ],
      "text/plain": [
       "Empty DataFrame\n",
       "Columns: [cliente, cliente_nom, fecha, litros, mes, año]\n",
       "Index: []"
      ]
     },
     "execution_count": 12,
     "metadata": {},
     "output_type": "execute_result"
    }
   ],
   "source": [
    "filas_taberna_tiburon = df[df['cliente_nom'] == clientes[0]]\n",
    "filas_taberna_tiburon"
   ]
  },
  {
   "cell_type": "code",
   "execution_count": 1,
   "metadata": {},
   "outputs": [
    {
     "ename": "NameError",
     "evalue": "name 'df' is not defined",
     "output_type": "error",
     "traceback": [
      "\u001b[0;31m---------------------------------------------------------------------------\u001b[0m",
      "\u001b[0;31mNameError\u001b[0m                                 Traceback (most recent call last)",
      "\u001b[1;32m/Users/linhaopeng/Desktop/NoIcloud.nosync/dammBackend/jupiter/pruebas.ipynb Celda 7\u001b[0m line \u001b[0;36m1\n\u001b[0;32m----> <a href='vscode-notebook-cell:/Users/linhaopeng/Desktop/NoIcloud.nosync/dammBackend/jupiter/pruebas.ipynb#X15sZmlsZQ%3D%3D?line=0'>1</a>\u001b[0m clientes \u001b[39m=\u001b[39m df\u001b[39m.\u001b[39mgroupby(\u001b[39m'\u001b[39m\u001b[39mcliente_nom\u001b[39m\u001b[39m'\u001b[39m)\u001b[39m.\u001b[39mplot(x\u001b[39m=\u001b[39m\u001b[39m'\u001b[39m\u001b[39mfecha\u001b[39m\u001b[39m'\u001b[39m, y\u001b[39m=\u001b[39m\u001b[39m'\u001b[39m\u001b[39mlitros\u001b[39m\u001b[39m'\u001b[39m, figsize\u001b[39m=\u001b[39m(\u001b[39m20\u001b[39m, \u001b[39m10\u001b[39m))\n\u001b[1;32m      <a href='vscode-notebook-cell:/Users/linhaopeng/Desktop/NoIcloud.nosync/dammBackend/jupiter/pruebas.ipynb#X15sZmlsZQ%3D%3D?line=1'>2</a>\u001b[0m clientes\u001b[39m.\u001b[39mhead()\n",
      "\u001b[0;31mNameError\u001b[0m: name 'df' is not defined"
     ]
    }
   ],
   "source": [
    "clientes = df.groupby('cliente_nom').plot(x='fecha', y='litros', figsize=(20, 10))\n",
    "clientes.head()\n"
   ]
  },
  {
   "cell_type": "code",
   "execution_count": null,
   "metadata": {},
   "outputs": [],
   "source": [
    "len(df['cliente'].unique())"
   ]
  },
  {
   "cell_type": "code",
   "execution_count": null,
   "metadata": {},
   "outputs": [],
   "source": [
    "X_train, X_test, y_train, y_test = train_test_split(X, y, test_size=0.2, random_state=42)"
   ]
  },
  {
   "cell_type": "code",
   "execution_count": null,
   "metadata": {},
   "outputs": [],
   "source": [
    "import tensorflow as tf\n",
    "\n",
    "model = tf.keas.Sequential([\n",
    "    tf.keras.layers.Input(shape=(3,)),  # 3 características: cliente, mes, año\n",
    "    tf.keras.layers.Dense(64, activation='relu'),\n",
    "    tf.keras.layers.Dense(32, activation='relu'),\n",
    "    tf.keras.layers.Dense(1)  # Una capa de salida para predecir litros\n",
    "])\n",
    "\n",
    "model.compile(optimizer='adam', loss='mean_squared_error')\n",
    "\n",
    "# Entrenamiento del modelo\n",
    "model.fit(X_train, y_train, epochs=100, batch_size=32)"
   ]
  },
  {
   "cell_type": "code",
   "execution_count": null,
   "metadata": {},
   "outputs": [],
   "source": [
    "loss = model.evaluate(X_test, y_test)\n",
    "print(f'Error cuadrático medio en datos de prueba: {loss:.2f}')"
   ]
  },
  {
   "cell_type": "code",
   "execution_count": null,
   "metadata": {},
   "outputs": [],
   "source": [
    "predictions = model.predict(X_train)\n",
    "predictions[:5]"
   ]
  }
 ],
 "metadata": {
  "kernelspec": {
   "display_name": "base",
   "language": "python",
   "name": "python3"
  },
  "language_info": {
   "codemirror_mode": {
    "name": "ipython",
    "version": 3
   },
   "file_extension": ".py",
   "mimetype": "text/x-python",
   "name": "python",
   "nbconvert_exporter": "python",
   "pygments_lexer": "ipython3",
   "version": "3.11.4"
  }
 },
 "nbformat": 4,
 "nbformat_minor": 2
}
