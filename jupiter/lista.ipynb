{
 "cells": [
  {
   "cell_type": "code",
   "execution_count": 1,
   "metadata": {},
   "outputs": [],
   "source": [
    "import pandas as pd"
   ]
  },
  {
   "cell_type": "code",
   "execution_count": 3,
   "metadata": {},
   "outputs": [
    {
     "data": {
      "text/html": [
       "<div>\n",
       "<style scoped>\n",
       "    .dataframe tbody tr th:only-of-type {\n",
       "        vertical-align: middle;\n",
       "    }\n",
       "\n",
       "    .dataframe tbody tr th {\n",
       "        vertical-align: top;\n",
       "    }\n",
       "\n",
       "    .dataframe thead th {\n",
       "        text-align: right;\n",
       "    }\n",
       "</style>\n",
       "<table border=\"1\" class=\"dataframe\">\n",
       "  <thead>\n",
       "    <tr style=\"text-align: right;\">\n",
       "      <th></th>\n",
       "      <th>BD - LA JABATA</th>\n",
       "      <th>RONDA SANT PAU</th>\n",
       "      <th>15</th>\n",
       "      <th>Unnamed: 3</th>\n",
       "      <th>BARCELONA</th>\n",
       "      <th>8015</th>\n",
       "      <th>Oro</th>\n",
       "      <th>Bar tradicional</th>\n",
       "    </tr>\n",
       "  </thead>\n",
       "  <tbody>\n",
       "    <tr>\n",
       "      <th>0</th>\n",
       "      <td>BD - INDY BY CABO</td>\n",
       "      <td>CALLE PUJADES</td>\n",
       "      <td>290</td>\n",
       "      <td>NaN</td>\n",
       "      <td>BARCELONA</td>\n",
       "      <td>8005</td>\n",
       "      <td>Oro</td>\n",
       "      <td>Restaurante Menú</td>\n",
       "    </tr>\n",
       "    <tr>\n",
       "      <th>1</th>\n",
       "      <td>BD - FONDA LA PALMERA</td>\n",
       "      <td>CALLE JERUSALEM</td>\n",
       "      <td>30</td>\n",
       "      <td>LOCAL 2</td>\n",
       "      <td>BARCELONA</td>\n",
       "      <td>8001</td>\n",
       "      <td>Oro</td>\n",
       "      <td>Restaurante Carta</td>\n",
       "    </tr>\n",
       "    <tr>\n",
       "      <th>2</th>\n",
       "      <td>BD - COLLONUT</td>\n",
       "      <td>CALLE FRANCESC MACIA</td>\n",
       "      <td>41</td>\n",
       "      <td>NaN</td>\n",
       "      <td>BADALONA</td>\n",
       "      <td>8912</td>\n",
       "      <td>Oro</td>\n",
       "      <td>Bar tradicional</td>\n",
       "    </tr>\n",
       "    <tr>\n",
       "      <th>3</th>\n",
       "      <td>BD - LA MALA</td>\n",
       "      <td>PASEO SALZEREDA</td>\n",
       "      <td>55</td>\n",
       "      <td>ESQ. C/ FRANCESC MORAGAS</td>\n",
       "      <td>SANTA COLOMA DE GRAMENET</td>\n",
       "      <td>8922</td>\n",
       "      <td>Bronce</td>\n",
       "      <td>Bar tradicional</td>\n",
       "    </tr>\n",
       "    <tr>\n",
       "      <th>4</th>\n",
       "      <td>BD - RECO D'EN MARGARIT</td>\n",
       "      <td>PASEO CALLAO</td>\n",
       "      <td>15</td>\n",
       "      <td>0</td>\n",
       "      <td>MATARO</td>\n",
       "      <td>8302</td>\n",
       "      <td>Oro</td>\n",
       "      <td>Chiringuito</td>\n",
       "    </tr>\n",
       "  </tbody>\n",
       "</table>\n",
       "</div>"
      ],
      "text/plain": [
       "            BD - LA JABATA        RONDA SANT PAU   15  \\\n",
       "0        BD - INDY BY CABO         CALLE PUJADES  290   \n",
       "1    BD - FONDA LA PALMERA       CALLE JERUSALEM   30   \n",
       "2            BD - COLLONUT  CALLE FRANCESC MACIA   41   \n",
       "3             BD - LA MALA       PASEO SALZEREDA   55   \n",
       "4  BD - RECO D'EN MARGARIT          PASEO CALLAO   15   \n",
       "\n",
       "                 Unnamed: 3                 BARCELONA  8015     Oro  \\\n",
       "0                       NaN                 BARCELONA  8005     Oro   \n",
       "1                   LOCAL 2                 BARCELONA  8001     Oro   \n",
       "2                       NaN                  BADALONA  8912     Oro   \n",
       "3  ESQ. C/ FRANCESC MORAGAS  SANTA COLOMA DE GRAMENET  8922  Bronce   \n",
       "4                         0                    MATARO  8302     Oro   \n",
       "\n",
       "     Bar tradicional  \n",
       "0   Restaurante Menú  \n",
       "1  Restaurante Carta  \n",
       "2    Bar tradicional  \n",
       "3    Bar tradicional  \n",
       "4        Chiringuito  "
      ]
     },
     "execution_count": 3,
     "metadata": {},
     "output_type": "execute_result"
    }
   ],
   "source": [
    "df = pd.read_excel('../data/llistat.xlsx')\n",
    "df.head()\n"
   ]
  },
  {
   "cell_type": "code",
   "execution_count": 10,
   "metadata": {},
   "outputs": [
    {
     "data": {
      "text/plain": [
       "array(['Restaurante Menú', 'Restaurante Carta', 'Bar tradicional',\n",
       "       'Chiringuito', 'Hotel 5*', 'Cervecería',\n",
       "       'Multiespacio gastronómico', 'Sala de conciertos',\n",
       "       'Bar de tapas/pinchos', 'Pizzería', 'Cafetería', 'Vermutería',\n",
       "       'Pub/Bar de copas', 'Restaurante Gastronómico',\n",
       "       'Frankfurt-Sandwichería', nan, 'Cocktelería', 'Gastronómico',\n",
       "       'Beach club', 'Restaurante Espectáculo'], dtype=object)"
      ]
     },
     "execution_count": 10,
     "metadata": {},
     "output_type": "execute_result"
    }
   ],
   "source": [
    "# get \"Bar tradicional\" rows\n",
    "df.iloc[:,7].unique()"
   ]
  }
 ],
 "metadata": {
  "kernelspec": {
   "display_name": "base",
   "language": "python",
   "name": "python3"
  },
  "language_info": {
   "codemirror_mode": {
    "name": "ipython",
    "version": 3
   },
   "file_extension": ".py",
   "mimetype": "text/x-python",
   "name": "python",
   "nbconvert_exporter": "python",
   "pygments_lexer": "ipython3",
   "version": "3.11.4"
  }
 },
 "nbformat": 4,
 "nbformat_minor": 2
}
